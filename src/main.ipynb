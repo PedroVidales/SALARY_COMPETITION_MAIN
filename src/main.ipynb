{
 "cells": [
  {
   "cell_type": "code",
   "execution_count": 1,
   "id": "d1edc34e",
   "metadata": {},
   "outputs": [],
   "source": [
    "import pandas as pd \n",
    "import warnings\n",
    "warnings.filterwarnings('ignore')\n",
    "import pylab as plt\n",
    "%matplotlib inline\n",
    "import numpy as np\n",
    "import umap\n",
    "import statsmodels.api as sm\n",
    "import seaborn as sns\n",
    "import pickle\n",
    "import regex as re\n",
    "\n",
    "from sklearn.manifold import TSNE\n",
    "from sklearn.preprocessing import StandardScaler, MinMaxScaler  # normalizacion\n",
    "from sklearn.decomposition import PCA    # PCA\n",
    "from sklearn.datasets import load_boston\n",
    "from sklearn.linear_model import LogisticRegression            # clasificar, logistic regression model   \n",
    "from sklearn.preprocessing import StandardScaler               # standarized\n",
    "from sklearn.preprocessing import LabelEncoder               \n",
    "from sklearn.model_selection import train_test_split as tts    # split data into train and test sets\n",
    "from sklearn.linear_model import LinearRegression as LinReg\n",
    "from sklearn.metrics import r2_score as r2\n",
    "from sklearn.metrics import mean_squared_error as mse  # error cuadratico medio\n",
    "from sklearn.metrics import mean_absolute_error as mae  # estos alias tmb son cosa mia\n",
    "from sklearn.datasets import load_iris\n",
    "from sklearn.linear_model import LogisticRegression            # logistic regression model  \n",
    "from sklearn.metrics import accuracy_score as acc\n",
    "from sklearn.metrics import balanced_accuracy_score\n",
    "from sklearn.metrics import precision_score as prec\n",
    "from sklearn.metrics import recall_score as rec\n",
    "from sklearn.metrics import f1_score as f1\n",
    "from sklearn.metrics import confusion_matrix as cm\n",
    "from sklearn.ensemble import RandomForestRegressor as RFR    # el modelo , el alias es cosa mia\n",
    "from sklearn.datasets import load_diabetes   # dataset\n",
    "from sklearn.datasets import load_iris\n"
   ]
  },
  {
   "cell_type": "code",
   "execution_count": 2,
   "id": "9f45bae3",
   "metadata": {},
   "outputs": [],
   "source": [
    "salaries = pd.read_csv('../data/salaries_data.csv')"
   ]
  },
  {
   "cell_type": "code",
   "execution_count": 3,
   "id": "83a1499b",
   "metadata": {},
   "outputs": [
    {
     "data": {
      "text/html": [
       "<div>\n",
       "<style scoped>\n",
       "    .dataframe tbody tr th:only-of-type {\n",
       "        vertical-align: middle;\n",
       "    }\n",
       "\n",
       "    .dataframe tbody tr th {\n",
       "        vertical-align: top;\n",
       "    }\n",
       "\n",
       "    .dataframe thead th {\n",
       "        text-align: right;\n",
       "    }\n",
       "</style>\n",
       "<table border=\"1\" class=\"dataframe\">\n",
       "  <thead>\n",
       "    <tr style=\"text-align: right;\">\n",
       "      <th></th>\n",
       "      <th>work_year</th>\n",
       "      <th>experience_level</th>\n",
       "      <th>employment_type</th>\n",
       "      <th>job_title</th>\n",
       "      <th>salary</th>\n",
       "      <th>salary_currency</th>\n",
       "      <th>salary_in_usd</th>\n",
       "      <th>employee_residence</th>\n",
       "      <th>remote_ratio</th>\n",
       "      <th>company_location</th>\n",
       "      <th>company_size</th>\n",
       "    </tr>\n",
       "  </thead>\n",
       "  <tbody>\n",
       "    <tr>\n",
       "      <th>0</th>\n",
       "      <td>2022</td>\n",
       "      <td>SE</td>\n",
       "      <td>FT</td>\n",
       "      <td>Data Engineer</td>\n",
       "      <td>140250</td>\n",
       "      <td>USD</td>\n",
       "      <td>140250</td>\n",
       "      <td>US</td>\n",
       "      <td>100</td>\n",
       "      <td>US</td>\n",
       "      <td>M</td>\n",
       "    </tr>\n",
       "    <tr>\n",
       "      <th>1</th>\n",
       "      <td>2022</td>\n",
       "      <td>SE</td>\n",
       "      <td>FT</td>\n",
       "      <td>Data Engineer</td>\n",
       "      <td>135000</td>\n",
       "      <td>USD</td>\n",
       "      <td>135000</td>\n",
       "      <td>US</td>\n",
       "      <td>100</td>\n",
       "      <td>US</td>\n",
       "      <td>M</td>\n",
       "    </tr>\n",
       "    <tr>\n",
       "      <th>2</th>\n",
       "      <td>2021</td>\n",
       "      <td>MI</td>\n",
       "      <td>FT</td>\n",
       "      <td>BI Data Analyst</td>\n",
       "      <td>100000</td>\n",
       "      <td>USD</td>\n",
       "      <td>100000</td>\n",
       "      <td>US</td>\n",
       "      <td>100</td>\n",
       "      <td>US</td>\n",
       "      <td>M</td>\n",
       "    </tr>\n",
       "    <tr>\n",
       "      <th>3</th>\n",
       "      <td>2021</td>\n",
       "      <td>MI</td>\n",
       "      <td>CT</td>\n",
       "      <td>ML Engineer</td>\n",
       "      <td>270000</td>\n",
       "      <td>USD</td>\n",
       "      <td>270000</td>\n",
       "      <td>US</td>\n",
       "      <td>100</td>\n",
       "      <td>US</td>\n",
       "      <td>L</td>\n",
       "    </tr>\n",
       "    <tr>\n",
       "      <th>4</th>\n",
       "      <td>2021</td>\n",
       "      <td>MI</td>\n",
       "      <td>FT</td>\n",
       "      <td>Data Engineer</td>\n",
       "      <td>22000</td>\n",
       "      <td>EUR</td>\n",
       "      <td>26005</td>\n",
       "      <td>RO</td>\n",
       "      <td>0</td>\n",
       "      <td>US</td>\n",
       "      <td>L</td>\n",
       "    </tr>\n",
       "  </tbody>\n",
       "</table>\n",
       "</div>"
      ],
      "text/plain": [
       "   work_year experience_level employment_type        job_title  salary  \\\n",
       "0       2022               SE              FT    Data Engineer  140250   \n",
       "1       2022               SE              FT    Data Engineer  135000   \n",
       "2       2021               MI              FT  BI Data Analyst  100000   \n",
       "3       2021               MI              CT      ML Engineer  270000   \n",
       "4       2021               MI              FT    Data Engineer   22000   \n",
       "\n",
       "  salary_currency  salary_in_usd employee_residence  remote_ratio  \\\n",
       "0             USD         140250                 US           100   \n",
       "1             USD         135000                 US           100   \n",
       "2             USD         100000                 US           100   \n",
       "3             USD         270000                 US           100   \n",
       "4             EUR          26005                 RO             0   \n",
       "\n",
       "  company_location company_size  \n",
       "0               US            M  \n",
       "1               US            M  \n",
       "2               US            M  \n",
       "3               US            L  \n",
       "4               US            L  "
      ]
     },
     "execution_count": 3,
     "metadata": {},
     "output_type": "execute_result"
    }
   ],
   "source": [
    "salaries.head()"
   ]
  },
  {
   "cell_type": "code",
   "execution_count": 4,
   "id": "b8de2353",
   "metadata": {},
   "outputs": [
    {
     "data": {
      "text/plain": [
       "Index(['work_year', 'experience_level', 'employment_type', 'job_title',\n",
       "       'salary', 'salary_currency', 'salary_in_usd', 'employee_residence',\n",
       "       'remote_ratio', 'company_location', 'company_size'],\n",
       "      dtype='object')"
      ]
     },
     "execution_count": 4,
     "metadata": {},
     "output_type": "execute_result"
    }
   ],
   "source": [
    "salaries.columns"
   ]
  },
  {
   "cell_type": "code",
   "execution_count": 5,
   "id": "ec57d0af",
   "metadata": {},
   "outputs": [
    {
     "data": {
      "text/plain": [
       "array(['US', 'FR', 'GR', 'LU', 'SI', 'DE', 'IN', 'GB', 'PK', 'MD', 'JP',\n",
       "       'CA', 'AS', 'IE', 'AE', 'MX', 'VN', 'BE', 'KE', 'ES', 'CH', 'CL',\n",
       "       'CN', 'DK', 'TR', 'NZ', 'PL', 'UA', 'AU', 'NG', 'EE', 'CZ', 'AT',\n",
       "       'BR', 'DZ', 'IR', 'NL', 'HU', 'PT', 'HN', 'MT', 'RO', 'SG'],\n",
       "      dtype=object)"
      ]
     },
     "execution_count": 5,
     "metadata": {},
     "output_type": "execute_result"
    }
   ],
   "source": [
    "salaries.company_location.unique()"
   ]
  },
  {
   "cell_type": "code",
   "execution_count": 6,
   "id": "89de3374",
   "metadata": {},
   "outputs": [
    {
     "name": "stdout",
     "output_type": "stream",
     "text": [
      "<class 'pandas.core.frame.DataFrame'>\n",
      "RangeIndex: 500 entries, 0 to 499\n",
      "Data columns (total 11 columns):\n",
      " #   Column              Non-Null Count  Dtype \n",
      "---  ------              --------------  ----- \n",
      " 0   work_year           500 non-null    int64 \n",
      " 1   experience_level    500 non-null    object\n",
      " 2   employment_type     500 non-null    object\n",
      " 3   job_title           500 non-null    object\n",
      " 4   salary              500 non-null    int64 \n",
      " 5   salary_currency     500 non-null    object\n",
      " 6   salary_in_usd       500 non-null    int64 \n",
      " 7   employee_residence  500 non-null    object\n",
      " 8   remote_ratio        500 non-null    int64 \n",
      " 9   company_location    500 non-null    object\n",
      " 10  company_size        500 non-null    object\n",
      "dtypes: int64(4), object(7)\n",
      "memory usage: 43.1+ KB\n"
     ]
    }
   ],
   "source": [
    "salaries.info()"
   ]
  },
  {
   "cell_type": "code",
   "execution_count": 7,
   "id": "d4a23c33",
   "metadata": {},
   "outputs": [
    {
     "name": "stdout",
     "output_type": "stream",
     "text": [
      "work_year             0\n",
      "experience_level      0\n",
      "employment_type       0\n",
      "job_title             0\n",
      "salary                0\n",
      "salary_currency       0\n",
      "salary_in_usd         0\n",
      "employee_residence    0\n",
      "remote_ratio          0\n",
      "company_location      0\n",
      "company_size          0\n",
      "dtype: int64\n"
     ]
    }
   ],
   "source": [
    "print(salaries.isnull().sum())"
   ]
  },
  {
   "cell_type": "code",
   "execution_count": 8,
   "id": "aa95cce9",
   "metadata": {},
   "outputs": [],
   "source": [
    "#Eliminamos distintas columnas que no van a ser muy útiles para el análisis"
   ]
  },
  {
   "cell_type": "code",
   "execution_count": 9,
   "id": "adcc9f89",
   "metadata": {},
   "outputs": [],
   "source": [
    "salaries = salaries.drop(['salary_currency', 'salary','remote_ratio', 'company_location', 'work_year'], axis=1)"
   ]
  },
  {
   "cell_type": "code",
   "execution_count": 10,
   "id": "da4b843f",
   "metadata": {},
   "outputs": [
    {
     "data": {
      "text/html": [
       "<div>\n",
       "<style scoped>\n",
       "    .dataframe tbody tr th:only-of-type {\n",
       "        vertical-align: middle;\n",
       "    }\n",
       "\n",
       "    .dataframe tbody tr th {\n",
       "        vertical-align: top;\n",
       "    }\n",
       "\n",
       "    .dataframe thead th {\n",
       "        text-align: right;\n",
       "    }\n",
       "</style>\n",
       "<table border=\"1\" class=\"dataframe\">\n",
       "  <thead>\n",
       "    <tr style=\"text-align: right;\">\n",
       "      <th></th>\n",
       "      <th>experience_level</th>\n",
       "      <th>employment_type</th>\n",
       "      <th>job_title</th>\n",
       "      <th>salary_in_usd</th>\n",
       "      <th>employee_residence</th>\n",
       "      <th>company_size</th>\n",
       "    </tr>\n",
       "  </thead>\n",
       "  <tbody>\n",
       "    <tr>\n",
       "      <th>0</th>\n",
       "      <td>SE</td>\n",
       "      <td>FT</td>\n",
       "      <td>Data Engineer</td>\n",
       "      <td>140250</td>\n",
       "      <td>US</td>\n",
       "      <td>M</td>\n",
       "    </tr>\n",
       "    <tr>\n",
       "      <th>1</th>\n",
       "      <td>SE</td>\n",
       "      <td>FT</td>\n",
       "      <td>Data Engineer</td>\n",
       "      <td>135000</td>\n",
       "      <td>US</td>\n",
       "      <td>M</td>\n",
       "    </tr>\n",
       "    <tr>\n",
       "      <th>2</th>\n",
       "      <td>MI</td>\n",
       "      <td>FT</td>\n",
       "      <td>BI Data Analyst</td>\n",
       "      <td>100000</td>\n",
       "      <td>US</td>\n",
       "      <td>M</td>\n",
       "    </tr>\n",
       "    <tr>\n",
       "      <th>3</th>\n",
       "      <td>MI</td>\n",
       "      <td>CT</td>\n",
       "      <td>ML Engineer</td>\n",
       "      <td>270000</td>\n",
       "      <td>US</td>\n",
       "      <td>L</td>\n",
       "    </tr>\n",
       "    <tr>\n",
       "      <th>4</th>\n",
       "      <td>MI</td>\n",
       "      <td>FT</td>\n",
       "      <td>Data Engineer</td>\n",
       "      <td>26005</td>\n",
       "      <td>RO</td>\n",
       "      <td>L</td>\n",
       "    </tr>\n",
       "  </tbody>\n",
       "</table>\n",
       "</div>"
      ],
      "text/plain": [
       "  experience_level employment_type        job_title  salary_in_usd  \\\n",
       "0               SE              FT    Data Engineer         140250   \n",
       "1               SE              FT    Data Engineer         135000   \n",
       "2               MI              FT  BI Data Analyst         100000   \n",
       "3               MI              CT      ML Engineer         270000   \n",
       "4               MI              FT    Data Engineer          26005   \n",
       "\n",
       "  employee_residence company_size  \n",
       "0                 US            M  \n",
       "1                 US            M  \n",
       "2                 US            M  \n",
       "3                 US            L  \n",
       "4                 RO            L  "
      ]
     },
     "execution_count": 10,
     "metadata": {},
     "output_type": "execute_result"
    }
   ],
   "source": [
    "salaries.head()"
   ]
  },
  {
   "cell_type": "code",
   "execution_count": 11,
   "id": "50598ac4",
   "metadata": {},
   "outputs": [
    {
     "data": {
      "text/plain": [
       "Index(['experience_level', 'employment_type', 'job_title', 'salary_in_usd',\n",
       "       'employee_residence', 'company_size'],\n",
       "      dtype='object')"
      ]
     },
     "execution_count": 11,
     "metadata": {},
     "output_type": "execute_result"
    }
   ],
   "source": [
    "salaries.columns"
   ]
  },
  {
   "cell_type": "code",
   "execution_count": 12,
   "id": "f6f91088",
   "metadata": {},
   "outputs": [
    {
     "data": {
      "text/plain": [
       "array(['SE', 'MI', 'EN', 'EX'], dtype=object)"
      ]
     },
     "execution_count": 12,
     "metadata": {},
     "output_type": "execute_result"
    }
   ],
   "source": [
    "salaries.experience_level.unique()"
   ]
  },
  {
   "cell_type": "code",
   "execution_count": 13,
   "id": "c3b13a5b",
   "metadata": {},
   "outputs": [
    {
     "data": {
      "text/plain": [
       "array(['FT', 'CT', 'FL', 'PT'], dtype=object)"
      ]
     },
     "execution_count": 13,
     "metadata": {},
     "output_type": "execute_result"
    }
   ],
   "source": [
    "salaries.employment_type.unique()"
   ]
  },
  {
   "cell_type": "code",
   "execution_count": 14,
   "id": "64c47448",
   "metadata": {},
   "outputs": [
    {
     "data": {
      "text/plain": [
       "array(['Data Engineer', 'BI Data Analyst', 'ML Engineer',\n",
       "       'Machine Learning Scientist', 'Data Scientist', 'Data Analyst',\n",
       "       'Machine Learning Engineer', 'Principal Data Scientist',\n",
       "       'Data Engineering Manager', 'Data Analytics Manager',\n",
       "       'Big Data Engineer', 'Research Scientist',\n",
       "       'Machine Learning Developer', 'Computer Vision Engineer',\n",
       "       'AI Scientist', 'Machine Learning Manager', 'Lead Data Scientist',\n",
       "       'Director of Data Science', '3D Computer Vision Researcher',\n",
       "       'Data Specialist', 'Applied Data Scientist',\n",
       "       'Data Science Engineer', 'Head of Data', 'Analytics Engineer',\n",
       "       'ETL Developer', 'Marketing Data Analyst', 'Data Architect',\n",
       "       'Data Science Consultant', 'Principal Data Analyst',\n",
       "       'Head of Data Science', 'Lead Data Engineer',\n",
       "       'Data Science Manager', 'Applied Machine Learning Scientist',\n",
       "       'Lead Data Analyst', 'Cloud Data Engineer',\n",
       "       'Lead Machine Learning Engineer',\n",
       "       'Machine Learning Infrastructure Engineer', 'Big Data Architect',\n",
       "       'Product Data Analyst', 'Business Data Analyst',\n",
       "       'Director of Data Engineering', 'Data Analytics Lead',\n",
       "       'Financial Data Analyst', 'Finance Data Analyst',\n",
       "       'Head of Machine Learning', 'Staff Data Scientist',\n",
       "       'Data Analytics Engineer', 'Computer Vision Software Engineer'],\n",
       "      dtype=object)"
      ]
     },
     "execution_count": 14,
     "metadata": {},
     "output_type": "execute_result"
    }
   ],
   "source": [
    "salaries.job_title.unique()   #Valuecounts"
   ]
  },
  {
   "cell_type": "code",
   "execution_count": 15,
   "id": "6df519d3",
   "metadata": {},
   "outputs": [],
   "source": [
    "salaries['job_title'] = salaries['job_title'].str.replace(r'.*Data.*', 'Data', regex=True)\\\n",
    "                                             .str.replace(r'.*Engineer.*', 'Engineer', regex=True)\\\n",
    "                                             .str.replace(r'.*Machine Learning.*', 'Machine Learning', regex=True)\\\n",
    "                                             .str.replace(r'.*ETL Developer.*', 'Data', regex=True)\\\n",
    "                                             .str.replace(r'.*AI Scientist.*', 'Other', regex=True)\\\n",
    "                                             .str.replace(r'.*3D Computer Vision Researcher.*', 'Other', regex=True)\\\n",
    "                                             .str.replace(r'.*Research Scientist.*', 'Other', regex=True)"
   ]
  },
  {
   "cell_type": "code",
   "execution_count": 16,
   "id": "1d9223b1",
   "metadata": {},
   "outputs": [
    {
     "data": {
      "text/plain": [
       "array(['Data', 'Engineer', 'Machine Learning', 'Other'], dtype=object)"
      ]
     },
     "execution_count": 16,
     "metadata": {},
     "output_type": "execute_result"
    }
   ],
   "source": [
    "salaries.job_title.unique()   #Valuecounts"
   ]
  },
  {
   "cell_type": "code",
   "execution_count": 17,
   "id": "19a89823",
   "metadata": {},
   "outputs": [],
   "source": [
    "dictio = {'Data':0 , 'Engineer':1, 'Machine Learning':2,'Other':3}\n",
    "salaries.job_title=salaries.job_title.apply(lambda x: dictio[x])"
   ]
  },
  {
   "cell_type": "code",
   "execution_count": 18,
   "id": "00119540",
   "metadata": {},
   "outputs": [
    {
     "data": {
      "text/plain": [
       "US    278\n",
       "GB     38\n",
       "IN     25\n",
       "CA     24\n",
       "DE     19\n",
       "FR     14\n",
       "ES     13\n",
       "GR     11\n",
       "PK      6\n",
       "PT      6\n",
       "BR      5\n",
       "NL      4\n",
       "JP      4\n",
       "VN      3\n",
       "PL      3\n",
       "AT      3\n",
       "TR      3\n",
       "AE      3\n",
       "RO      2\n",
       "BE      2\n",
       "NG      2\n",
       "AU      2\n",
       "RU      2\n",
       "IT      2\n",
       "SI      2\n",
       "MY      1\n",
       "BO      1\n",
       "HN      1\n",
       "IE      1\n",
       "MT      1\n",
       "HU      1\n",
       "RS      1\n",
       "MD      1\n",
       "IR      1\n",
       "LU      1\n",
       "DZ      1\n",
       "MX      1\n",
       "PR      1\n",
       "CZ      1\n",
       "EE      1\n",
       "HK      1\n",
       "BG      1\n",
       "UA      1\n",
       "NZ      1\n",
       "JE      1\n",
       "CL      1\n",
       "CH      1\n",
       "KE      1\n",
       "SG      1\n",
       "Name: employee_residence, dtype: int64"
      ]
     },
     "execution_count": 18,
     "metadata": {},
     "output_type": "execute_result"
    }
   ],
   "source": [
    "salaries['employee_residence'].value_counts()"
   ]
  },
  {
   "cell_type": "code",
   "execution_count": 19,
   "id": "f079edfc",
   "metadata": {},
   "outputs": [],
   "source": [
    "from sklearn.preprocessing import LabelEncoder\n",
    "\n",
    "le = LabelEncoder()\n",
    "salaries['employee_residence'] = le.fit_transform(salaries['employee_residence'])"
   ]
  },
  {
   "cell_type": "code",
   "execution_count": 20,
   "id": "d7c786ba",
   "metadata": {},
   "outputs": [
    {
     "data": {
      "text/html": [
       "<div>\n",
       "<style scoped>\n",
       "    .dataframe tbody tr th:only-of-type {\n",
       "        vertical-align: middle;\n",
       "    }\n",
       "\n",
       "    .dataframe tbody tr th {\n",
       "        vertical-align: top;\n",
       "    }\n",
       "\n",
       "    .dataframe thead th {\n",
       "        text-align: right;\n",
       "    }\n",
       "</style>\n",
       "<table border=\"1\" class=\"dataframe\">\n",
       "  <thead>\n",
       "    <tr style=\"text-align: right;\">\n",
       "      <th></th>\n",
       "      <th>experience_level</th>\n",
       "      <th>employment_type</th>\n",
       "      <th>job_title</th>\n",
       "      <th>salary_in_usd</th>\n",
       "      <th>employee_residence</th>\n",
       "      <th>company_size</th>\n",
       "    </tr>\n",
       "  </thead>\n",
       "  <tbody>\n",
       "    <tr>\n",
       "      <th>0</th>\n",
       "      <td>SE</td>\n",
       "      <td>FT</td>\n",
       "      <td>0</td>\n",
       "      <td>140250</td>\n",
       "      <td>47</td>\n",
       "      <td>M</td>\n",
       "    </tr>\n",
       "    <tr>\n",
       "      <th>1</th>\n",
       "      <td>SE</td>\n",
       "      <td>FT</td>\n",
       "      <td>0</td>\n",
       "      <td>135000</td>\n",
       "      <td>47</td>\n",
       "      <td>M</td>\n",
       "    </tr>\n",
       "    <tr>\n",
       "      <th>2</th>\n",
       "      <td>MI</td>\n",
       "      <td>FT</td>\n",
       "      <td>0</td>\n",
       "      <td>100000</td>\n",
       "      <td>47</td>\n",
       "      <td>M</td>\n",
       "    </tr>\n",
       "    <tr>\n",
       "      <th>3</th>\n",
       "      <td>MI</td>\n",
       "      <td>CT</td>\n",
       "      <td>1</td>\n",
       "      <td>270000</td>\n",
       "      <td>47</td>\n",
       "      <td>L</td>\n",
       "    </tr>\n",
       "    <tr>\n",
       "      <th>4</th>\n",
       "      <td>MI</td>\n",
       "      <td>FT</td>\n",
       "      <td>0</td>\n",
       "      <td>26005</td>\n",
       "      <td>40</td>\n",
       "      <td>L</td>\n",
       "    </tr>\n",
       "  </tbody>\n",
       "</table>\n",
       "</div>"
      ],
      "text/plain": [
       "  experience_level employment_type  job_title  salary_in_usd  \\\n",
       "0               SE              FT          0         140250   \n",
       "1               SE              FT          0         135000   \n",
       "2               MI              FT          0         100000   \n",
       "3               MI              CT          1         270000   \n",
       "4               MI              FT          0          26005   \n",
       "\n",
       "   employee_residence company_size  \n",
       "0                  47            M  \n",
       "1                  47            M  \n",
       "2                  47            M  \n",
       "3                  47            L  \n",
       "4                  40            L  "
      ]
     },
     "execution_count": 20,
     "metadata": {},
     "output_type": "execute_result"
    }
   ],
   "source": [
    "salaries.head()"
   ]
  },
  {
   "cell_type": "code",
   "execution_count": 21,
   "id": "9d7c4876",
   "metadata": {},
   "outputs": [],
   "source": [
    "salaries = pd.get_dummies(salaries, columns=['experience_level','employment_type', 'company_size'], drop_first=True)"
   ]
  },
  {
   "cell_type": "code",
   "execution_count": 22,
   "id": "d142a098",
   "metadata": {},
   "outputs": [],
   "source": [
    "salaries = salaries.drop(['employment_type_FL'], axis=1)"
   ]
  },
  {
   "cell_type": "code",
   "execution_count": null,
   "id": "83160722",
   "metadata": {},
   "outputs": [],
   "source": []
  },
  {
   "cell_type": "code",
   "execution_count": 24,
   "id": "a60970fa",
   "metadata": {},
   "outputs": [],
   "source": [
    "X=salaries[['job_title','employee_residence','experience_level_EX','experience_level_MI','experience_level_SE','employment_type_FT','employment_type_PT','company_size_M','company_size_S']]\n",
    "y=salaries['salary_in_usd']"
   ]
  },
  {
   "cell_type": "code",
   "execution_count": 26,
   "id": "f53d4285",
   "metadata": {},
   "outputs": [],
   "source": [
    "from sklearn.preprocessing import StandardScaler\n",
    "scaler = StandardScaler()\n",
    "salaries = scaler.fit_transform(X)"
   ]
  },
  {
   "cell_type": "code",
   "execution_count": 27,
   "id": "dbe8b7a9",
   "metadata": {},
   "outputs": [
    {
     "data": {
      "text/plain": [
       "((400, 9), (100, 9), (400,), (100,))"
      ]
     },
     "execution_count": 27,
     "metadata": {},
     "output_type": "execute_result"
    }
   ],
   "source": [
    "from sklearn.model_selection import train_test_split as tts\n",
    "X_train, X_test, y_train, y_test  = tts(X, y, train_size=0.8, test_size=0.2, random_state=42)\n",
    "X_train.shape, X_test.shape, y_train.shape, y_test.shape"
   ]
  },
  {
   "cell_type": "code",
   "execution_count": 28,
   "id": "95c27186",
   "metadata": {},
   "outputs": [
    {
     "name": "stdout",
     "output_type": "stream",
     "text": [
      "Requirement already satisfied: lazypredict in c:\\users\\pedro vidales\\anaconda3\\lib\\site-packages (0.2.12)Note: you may need to restart the kernel to use updated packages.\n",
      "\n",
      "Requirement already satisfied: xgboost in c:\\users\\pedro vidales\\anaconda3\\lib\\site-packages (from lazypredict) (1.7.4)\n",
      "Requirement already satisfied: scikit-learn in c:\\users\\pedro vidales\\anaconda3\\lib\\site-packages (from lazypredict) (1.0.2)\n",
      "Requirement already satisfied: lightgbm in c:\\users\\pedro vidales\\anaconda3\\lib\\site-packages (from lazypredict) (3.3.5)\n",
      "Requirement already satisfied: tqdm in c:\\users\\pedro vidales\\anaconda3\\lib\\site-packages (from lazypredict) (4.64.1)\n",
      "Requirement already satisfied: pandas in c:\\users\\pedro vidales\\anaconda3\\lib\\site-packages (from lazypredict) (1.4.4)\n",
      "Requirement already satisfied: joblib in c:\\users\\pedro vidales\\anaconda3\\lib\\site-packages (from lazypredict) (1.1.0)\n",
      "Requirement already satisfied: click in c:\\users\\pedro vidales\\anaconda3\\lib\\site-packages (from lazypredict) (8.0.4)\n",
      "Requirement already satisfied: colorama in c:\\users\\pedro vidales\\anaconda3\\lib\\site-packages (from click->lazypredict) (0.4.5)\n",
      "Requirement already satisfied: numpy in c:\\users\\pedro vidales\\anaconda3\\lib\\site-packages (from lightgbm->lazypredict) (1.21.5)\n",
      "Requirement already satisfied: wheel in c:\\users\\pedro vidales\\anaconda3\\lib\\site-packages (from lightgbm->lazypredict) (0.37.1)\n",
      "Requirement already satisfied: scipy in c:\\users\\pedro vidales\\anaconda3\\lib\\site-packages (from lightgbm->lazypredict) (1.9.1)\n",
      "Requirement already satisfied: threadpoolctl>=2.0.0 in c:\\users\\pedro vidales\\anaconda3\\lib\\site-packages (from scikit-learn->lazypredict) (2.2.0)\n",
      "Requirement already satisfied: pytz>=2020.1 in c:\\users\\pedro vidales\\anaconda3\\lib\\site-packages (from pandas->lazypredict) (2022.1)\n",
      "Requirement already satisfied: python-dateutil>=2.8.1 in c:\\users\\pedro vidales\\anaconda3\\lib\\site-packages (from pandas->lazypredict) (2.8.2)\n",
      "Requirement already satisfied: six>=1.5 in c:\\users\\pedro vidales\\anaconda3\\lib\\site-packages (from python-dateutil>=2.8.1->pandas->lazypredict) (1.16.0)\n"
     ]
    }
   ],
   "source": [
    "#pip install lazypredict"
   ]
  },
  {
   "cell_type": "code",
   "execution_count": 29,
   "id": "3df257c5",
   "metadata": {},
   "outputs": [
    {
     "name": "stderr",
     "output_type": "stream",
     "text": [
      "100%|██████████| 42/42 [00:02<00:00, 15.18it/s]\n"
     ]
    },
    {
     "data": {
      "text/plain": [
       "(                               Adjusted R-Squared  R-Squared      RMSE  \\\n",
       " Model                                                                    \n",
       " LGBMRegressor                                0.37       0.43  47264.94   \n",
       " GradientBoostingRegressor                    0.36       0.42  47537.19   \n",
       " HistGradientBoostingRegressor                0.36       0.42  47739.82   \n",
       " RandomForestRegressor                        0.35       0.41  47973.56   \n",
       " ExtraTreesRegressor                          0.35       0.41  48066.81   \n",
       " XGBRegressor                                 0.34       0.40  48556.47   \n",
       " BaggingRegressor                             0.34       0.40  48627.22   \n",
       " DecisionTreeRegressor                        0.33       0.39  48778.54   \n",
       " ExtraTreeRegressor                           0.30       0.36  50008.10   \n",
       " PassiveAggressiveRegressor                   0.29       0.35  50307.93   \n",
       " LarsCV                                       0.26       0.33  51254.83   \n",
       " LassoLarsCV                                  0.26       0.33  51254.83   \n",
       " HuberRegressor                               0.26       0.33  51277.15   \n",
       " LassoCV                                      0.25       0.32  51498.93   \n",
       " OrthogonalMatchingPursuitCV                  0.25       0.32  51590.76   \n",
       " KNeighborsRegressor                          0.24       0.31  51895.31   \n",
       " ElasticNet                                   0.24       0.31  51941.08   \n",
       " BayesianRidge                                0.24       0.31  52111.61   \n",
       " RidgeCV                                      0.24       0.31  52138.80   \n",
       " Ridge                                        0.23       0.30  52382.88   \n",
       " LassoLars                                    0.23       0.30  52391.31   \n",
       " Lasso                                        0.23       0.30  52414.04   \n",
       " LassoLarsIC                                  0.23       0.30  52415.24   \n",
       " Lars                                         0.23       0.30  52415.24   \n",
       " LinearRegression                             0.23       0.30  52415.24   \n",
       " TransformedTargetRegressor                   0.23       0.30  52415.24   \n",
       " SGDRegressor                                 0.23       0.30  52420.60   \n",
       " PoissonRegressor                             0.22       0.29  52624.22   \n",
       " GammaRegressor                               0.21       0.29  52869.04   \n",
       " TweedieRegressor                             0.21       0.28  53118.14   \n",
       " OrthogonalMatchingPursuit                    0.18       0.25  54164.02   \n",
       " RANSACRegressor                              0.17       0.24  54378.75   \n",
       " AdaBoostRegressor                            0.02       0.11  58901.68   \n",
       " ElasticNetCV                                -0.07       0.03  61696.37   \n",
       " NuSVR                                       -0.10      -0.00  62587.80   \n",
       " DummyRegressor                              -0.10      -0.00  62674.87   \n",
       " QuantileRegressor                           -0.12      -0.02  63040.70   \n",
       " SVR                                         -0.12      -0.02  63052.33   \n",
       " KernelRidge                                 -3.09      -2.71 120563.98   \n",
       " LinearSVR                                   -3.47      -3.06 126076.52   \n",
       " MLPRegressor                                -3.49      -3.08 126367.84   \n",
       " GaussianProcessRegressor                   -24.35     -22.05 300312.49   \n",
       " \n",
       "                                Time Taken  \n",
       " Model                                      \n",
       " LGBMRegressor                        0.07  \n",
       " GradientBoostingRegressor            0.06  \n",
       " HistGradientBoostingRegressor        0.21  \n",
       " RandomForestRegressor                0.18  \n",
       " ExtraTreesRegressor                  0.13  \n",
       " XGBRegressor                         0.10  \n",
       " BaggingRegressor                     0.03  \n",
       " DecisionTreeRegressor                0.02  \n",
       " ExtraTreeRegressor                   0.02  \n",
       " PassiveAggressiveRegressor           0.04  \n",
       " LarsCV                               0.02  \n",
       " LassoLarsCV                          0.02  \n",
       " HuberRegressor                       0.02  \n",
       " LassoCV                              0.09  \n",
       " OrthogonalMatchingPursuitCV          0.01  \n",
       " KNeighborsRegressor                  0.01  \n",
       " ElasticNet                           0.01  \n",
       " BayesianRidge                        0.04  \n",
       " RidgeCV                              0.01  \n",
       " Ridge                                0.01  \n",
       " LassoLars                            0.01  \n",
       " Lasso                                0.00  \n",
       " LassoLarsIC                          0.02  \n",
       " Lars                                 0.01  \n",
       " LinearRegression                     0.01  \n",
       " TransformedTargetRegressor           0.01  \n",
       " SGDRegressor                         0.02  \n",
       " PoissonRegressor                     0.00  \n",
       " GammaRegressor                       0.02  \n",
       " TweedieRegressor                     0.00  \n",
       " OrthogonalMatchingPursuit            0.01  \n",
       " RANSACRegressor                      0.06  \n",
       " AdaBoostRegressor                    0.03  \n",
       " ElasticNetCV                         0.07  \n",
       " NuSVR                                0.02  \n",
       " DummyRegressor                       0.01  \n",
       " QuantileRegressor                    0.94  \n",
       " SVR                                  0.03  \n",
       " KernelRidge                          0.02  \n",
       " LinearSVR                            0.01  \n",
       " MLPRegressor                         0.36  \n",
       " GaussianProcessRegressor             0.01  ,\n",
       "                                Adjusted R-Squared  R-Squared      RMSE  \\\n",
       " Model                                                                    \n",
       " LGBMRegressor                                0.37       0.43  47264.94   \n",
       " GradientBoostingRegressor                    0.36       0.42  47537.19   \n",
       " HistGradientBoostingRegressor                0.36       0.42  47739.82   \n",
       " RandomForestRegressor                        0.35       0.41  47973.56   \n",
       " ExtraTreesRegressor                          0.35       0.41  48066.81   \n",
       " XGBRegressor                                 0.34       0.40  48556.47   \n",
       " BaggingRegressor                             0.34       0.40  48627.22   \n",
       " DecisionTreeRegressor                        0.33       0.39  48778.54   \n",
       " ExtraTreeRegressor                           0.30       0.36  50008.10   \n",
       " PassiveAggressiveRegressor                   0.29       0.35  50307.93   \n",
       " LarsCV                                       0.26       0.33  51254.83   \n",
       " LassoLarsCV                                  0.26       0.33  51254.83   \n",
       " HuberRegressor                               0.26       0.33  51277.15   \n",
       " LassoCV                                      0.25       0.32  51498.93   \n",
       " OrthogonalMatchingPursuitCV                  0.25       0.32  51590.76   \n",
       " KNeighborsRegressor                          0.24       0.31  51895.31   \n",
       " ElasticNet                                   0.24       0.31  51941.08   \n",
       " BayesianRidge                                0.24       0.31  52111.61   \n",
       " RidgeCV                                      0.24       0.31  52138.80   \n",
       " Ridge                                        0.23       0.30  52382.88   \n",
       " LassoLars                                    0.23       0.30  52391.31   \n",
       " Lasso                                        0.23       0.30  52414.04   \n",
       " LassoLarsIC                                  0.23       0.30  52415.24   \n",
       " Lars                                         0.23       0.30  52415.24   \n",
       " LinearRegression                             0.23       0.30  52415.24   \n",
       " TransformedTargetRegressor                   0.23       0.30  52415.24   \n",
       " SGDRegressor                                 0.23       0.30  52420.60   \n",
       " PoissonRegressor                             0.22       0.29  52624.22   \n",
       " GammaRegressor                               0.21       0.29  52869.04   \n",
       " TweedieRegressor                             0.21       0.28  53118.14   \n",
       " OrthogonalMatchingPursuit                    0.18       0.25  54164.02   \n",
       " RANSACRegressor                              0.17       0.24  54378.75   \n",
       " AdaBoostRegressor                            0.02       0.11  58901.68   \n",
       " ElasticNetCV                                -0.07       0.03  61696.37   \n",
       " NuSVR                                       -0.10      -0.00  62587.80   \n",
       " DummyRegressor                              -0.10      -0.00  62674.87   \n",
       " QuantileRegressor                           -0.12      -0.02  63040.70   \n",
       " SVR                                         -0.12      -0.02  63052.33   \n",
       " KernelRidge                                 -3.09      -2.71 120563.98   \n",
       " LinearSVR                                   -3.47      -3.06 126076.52   \n",
       " MLPRegressor                                -3.49      -3.08 126367.84   \n",
       " GaussianProcessRegressor                   -24.35     -22.05 300312.49   \n",
       " \n",
       "                                Time Taken  \n",
       " Model                                      \n",
       " LGBMRegressor                        0.07  \n",
       " GradientBoostingRegressor            0.06  \n",
       " HistGradientBoostingRegressor        0.21  \n",
       " RandomForestRegressor                0.18  \n",
       " ExtraTreesRegressor                  0.13  \n",
       " XGBRegressor                         0.10  \n",
       " BaggingRegressor                     0.03  \n",
       " DecisionTreeRegressor                0.02  \n",
       " ExtraTreeRegressor                   0.02  \n",
       " PassiveAggressiveRegressor           0.04  \n",
       " LarsCV                               0.02  \n",
       " LassoLarsCV                          0.02  \n",
       " HuberRegressor                       0.02  \n",
       " LassoCV                              0.09  \n",
       " OrthogonalMatchingPursuitCV          0.01  \n",
       " KNeighborsRegressor                  0.01  \n",
       " ElasticNet                           0.01  \n",
       " BayesianRidge                        0.04  \n",
       " RidgeCV                              0.01  \n",
       " Ridge                                0.01  \n",
       " LassoLars                            0.01  \n",
       " Lasso                                0.00  \n",
       " LassoLarsIC                          0.02  \n",
       " Lars                                 0.01  \n",
       " LinearRegression                     0.01  \n",
       " TransformedTargetRegressor           0.01  \n",
       " SGDRegressor                         0.02  \n",
       " PoissonRegressor                     0.00  \n",
       " GammaRegressor                       0.02  \n",
       " TweedieRegressor                     0.00  \n",
       " OrthogonalMatchingPursuit            0.01  \n",
       " RANSACRegressor                      0.06  \n",
       " AdaBoostRegressor                    0.03  \n",
       " ElasticNetCV                         0.07  \n",
       " NuSVR                                0.02  \n",
       " DummyRegressor                       0.01  \n",
       " QuantileRegressor                    0.94  \n",
       " SVR                                  0.03  \n",
       " KernelRidge                          0.02  \n",
       " LinearSVR                            0.01  \n",
       " MLPRegressor                         0.36  \n",
       " GaussianProcessRegressor             0.01  )"
      ]
     },
     "execution_count": 29,
     "metadata": {},
     "output_type": "execute_result"
    }
   ],
   "source": [
    "from lazypredict.Supervised import LazyRegressor\n",
    "lazy=LazyRegressor()\n",
    "lazy.fit(X_train, X_test, y_train, y_test)"
   ]
  },
  {
   "cell_type": "code",
   "execution_count": 30,
   "id": "c50711be",
   "metadata": {},
   "outputs": [],
   "source": [
    "from lightgbm import LGBMRegressor\n"
   ]
  },
  {
   "cell_type": "code",
   "execution_count": 31,
   "id": "310ca451",
   "metadata": {},
   "outputs": [],
   "source": [
    "model = LGBMRegressor()"
   ]
  },
  {
   "cell_type": "code",
   "execution_count": 32,
   "id": "88363571",
   "metadata": {},
   "outputs": [
    {
     "data": {
      "text/plain": [
       "LGBMRegressor()"
      ]
     },
     "execution_count": 32,
     "metadata": {},
     "output_type": "execute_result"
    }
   ],
   "source": [
    "model.fit(X_train, y_train)\n"
   ]
  },
  {
   "cell_type": "code",
   "execution_count": 33,
   "id": "f8675bc9",
   "metadata": {},
   "outputs": [],
   "source": [
    "y_pred = model.predict(X_test)"
   ]
  },
  {
   "cell_type": "code",
   "execution_count": 34,
   "id": "f24a475c",
   "metadata": {},
   "outputs": [],
   "source": [
    "from sklearn.metrics import r2_score, mean_squared_error"
   ]
  },
  {
   "cell_type": "code",
   "execution_count": 35,
   "id": "58e5b9e3",
   "metadata": {},
   "outputs": [
    {
     "data": {
      "text/plain": [
       "47264.93623199264"
      ]
     },
     "execution_count": 35,
     "metadata": {},
     "output_type": "execute_result"
    }
   ],
   "source": [
    "mse = mean_squared_error(y_test, y_pred, squared=False)\n",
    "mse"
   ]
  },
  {
   "cell_type": "code",
   "execution_count": 36,
   "id": "f60e63d7",
   "metadata": {},
   "outputs": [],
   "source": [
    "testeo = pd.read_csv('../data/testeo.csv')"
   ]
  },
  {
   "cell_type": "code",
   "execution_count": 37,
   "id": "01c0e4e3",
   "metadata": {},
   "outputs": [
    {
     "data": {
      "text/html": [
       "<div>\n",
       "<style scoped>\n",
       "    .dataframe tbody tr th:only-of-type {\n",
       "        vertical-align: middle;\n",
       "    }\n",
       "\n",
       "    .dataframe tbody tr th {\n",
       "        vertical-align: top;\n",
       "    }\n",
       "\n",
       "    .dataframe thead th {\n",
       "        text-align: right;\n",
       "    }\n",
       "</style>\n",
       "<table border=\"1\" class=\"dataframe\">\n",
       "  <thead>\n",
       "    <tr style=\"text-align: right;\">\n",
       "      <th></th>\n",
       "      <th>work_year</th>\n",
       "      <th>experience_level</th>\n",
       "      <th>employment_type</th>\n",
       "      <th>job_title</th>\n",
       "      <th>employee_residence</th>\n",
       "      <th>remote_ratio</th>\n",
       "      <th>company_location</th>\n",
       "      <th>company_size</th>\n",
       "    </tr>\n",
       "  </thead>\n",
       "  <tbody>\n",
       "    <tr>\n",
       "      <th>0</th>\n",
       "      <td>2020</td>\n",
       "      <td>SE</td>\n",
       "      <td>FT</td>\n",
       "      <td>Machine Learning Scientist</td>\n",
       "      <td>JP</td>\n",
       "      <td>0</td>\n",
       "      <td>JP</td>\n",
       "      <td>S</td>\n",
       "    </tr>\n",
       "    <tr>\n",
       "      <th>1</th>\n",
       "      <td>2020</td>\n",
       "      <td>MI</td>\n",
       "      <td>FT</td>\n",
       "      <td>Lead Data Analyst</td>\n",
       "      <td>US</td>\n",
       "      <td>100</td>\n",
       "      <td>US</td>\n",
       "      <td>L</td>\n",
       "    </tr>\n",
       "    <tr>\n",
       "      <th>2</th>\n",
       "      <td>2020</td>\n",
       "      <td>MI</td>\n",
       "      <td>FT</td>\n",
       "      <td>Data Analyst</td>\n",
       "      <td>US</td>\n",
       "      <td>100</td>\n",
       "      <td>US</td>\n",
       "      <td>L</td>\n",
       "    </tr>\n",
       "    <tr>\n",
       "      <th>3</th>\n",
       "      <td>2020</td>\n",
       "      <td>MI</td>\n",
       "      <td>FT</td>\n",
       "      <td>Machine Learning Engineer</td>\n",
       "      <td>CN</td>\n",
       "      <td>0</td>\n",
       "      <td>CN</td>\n",
       "      <td>M</td>\n",
       "    </tr>\n",
       "    <tr>\n",
       "      <th>4</th>\n",
       "      <td>2020</td>\n",
       "      <td>MI</td>\n",
       "      <td>FT</td>\n",
       "      <td>Product Data Analyst</td>\n",
       "      <td>IN</td>\n",
       "      <td>100</td>\n",
       "      <td>IN</td>\n",
       "      <td>L</td>\n",
       "    </tr>\n",
       "  </tbody>\n",
       "</table>\n",
       "</div>"
      ],
      "text/plain": [
       "   work_year experience_level employment_type                   job_title  \\\n",
       "0       2020               SE              FT  Machine Learning Scientist   \n",
       "1       2020               MI              FT           Lead Data Analyst   \n",
       "2       2020               MI              FT                Data Analyst   \n",
       "3       2020               MI              FT   Machine Learning Engineer   \n",
       "4       2020               MI              FT        Product Data Analyst   \n",
       "\n",
       "  employee_residence  remote_ratio company_location company_size  \n",
       "0                 JP             0               JP            S  \n",
       "1                 US           100               US            L  \n",
       "2                 US           100               US            L  \n",
       "3                 CN             0               CN            M  \n",
       "4                 IN           100               IN            L  "
      ]
     },
     "execution_count": 37,
     "metadata": {},
     "output_type": "execute_result"
    }
   ],
   "source": [
    "testeo.head()"
   ]
  },
  {
   "cell_type": "code",
   "execution_count": 38,
   "id": "d753eede",
   "metadata": {},
   "outputs": [],
   "source": [
    "testeo = testeo.drop(['remote_ratio', 'company_location', 'work_year'], axis=1)\n"
   ]
  },
  {
   "cell_type": "code",
   "execution_count": 39,
   "id": "90077ae2",
   "metadata": {},
   "outputs": [],
   "source": [
    "testeo['job_title'] = testeo['job_title'].str.replace(r'.*Data.*', 'Data', regex=True)\\\n",
    "                                             .str.replace(r'.*Engineer.*', 'Engineer', regex=True)\\\n",
    "                                             .str.replace(r'.*Machine Learning.*', 'Machine Learning', regex=True)\\\n",
    "                                             .str.replace(r'.*ETL Developer.*', 'Data', regex=True)\\\n",
    "                                             .str.replace(r'.*AI Scientist.*', 'Other', regex=True)\\\n",
    "                                             .str.replace(r'.*3D Computer Vision Researcher.*', 'Other', regex=True)\\\n",
    "                                             .str.replace(r'.*Research Scientist.*', 'Other', regex=True)"
   ]
  },
  {
   "cell_type": "code",
   "execution_count": 40,
   "id": "eb8d300a",
   "metadata": {},
   "outputs": [],
   "source": [
    "dictio = {'Data':0 , 'Engineer':1, 'Machine Learning':2,'Other':3}\n",
    "testeo.job_title=testeo.job_title.apply(lambda x: dictio[x])"
   ]
  },
  {
   "cell_type": "code",
   "execution_count": 41,
   "id": "3ed788a8",
   "metadata": {},
   "outputs": [],
   "source": [
    "le = LabelEncoder()\n",
    "testeo['employee_residence'] = le.fit_transform(testeo['employee_residence'])"
   ]
  },
  {
   "cell_type": "code",
   "execution_count": 42,
   "id": "9bf908a3",
   "metadata": {},
   "outputs": [],
   "source": [
    "testeo = pd.get_dummies(testeo, columns=['experience_level','employment_type', 'company_size'], drop_first=True)"
   ]
  },
  {
   "cell_type": "code",
   "execution_count": 43,
   "id": "8a4728cd",
   "metadata": {},
   "outputs": [
    {
     "data": {
      "text/html": [
       "<div>\n",
       "<style scoped>\n",
       "    .dataframe tbody tr th:only-of-type {\n",
       "        vertical-align: middle;\n",
       "    }\n",
       "\n",
       "    .dataframe tbody tr th {\n",
       "        vertical-align: top;\n",
       "    }\n",
       "\n",
       "    .dataframe thead th {\n",
       "        text-align: right;\n",
       "    }\n",
       "</style>\n",
       "<table border=\"1\" class=\"dataframe\">\n",
       "  <thead>\n",
       "    <tr style=\"text-align: right;\">\n",
       "      <th></th>\n",
       "      <th>job_title</th>\n",
       "      <th>employee_residence</th>\n",
       "      <th>experience_level_EX</th>\n",
       "      <th>experience_level_MI</th>\n",
       "      <th>experience_level_SE</th>\n",
       "      <th>employment_type_FT</th>\n",
       "      <th>employment_type_PT</th>\n",
       "      <th>company_size_M</th>\n",
       "      <th>company_size_S</th>\n",
       "    </tr>\n",
       "  </thead>\n",
       "  <tbody>\n",
       "    <tr>\n",
       "      <th>0</th>\n",
       "      <td>2</td>\n",
       "      <td>17</td>\n",
       "      <td>0</td>\n",
       "      <td>0</td>\n",
       "      <td>1</td>\n",
       "      <td>1</td>\n",
       "      <td>0</td>\n",
       "      <td>0</td>\n",
       "      <td>1</td>\n",
       "    </tr>\n",
       "    <tr>\n",
       "      <th>1</th>\n",
       "      <td>0</td>\n",
       "      <td>25</td>\n",
       "      <td>0</td>\n",
       "      <td>1</td>\n",
       "      <td>0</td>\n",
       "      <td>1</td>\n",
       "      <td>0</td>\n",
       "      <td>0</td>\n",
       "      <td>0</td>\n",
       "    </tr>\n",
       "    <tr>\n",
       "      <th>2</th>\n",
       "      <td>0</td>\n",
       "      <td>25</td>\n",
       "      <td>0</td>\n",
       "      <td>1</td>\n",
       "      <td>0</td>\n",
       "      <td>1</td>\n",
       "      <td>0</td>\n",
       "      <td>0</td>\n",
       "      <td>0</td>\n",
       "    </tr>\n",
       "    <tr>\n",
       "      <th>3</th>\n",
       "      <td>1</td>\n",
       "      <td>4</td>\n",
       "      <td>0</td>\n",
       "      <td>1</td>\n",
       "      <td>0</td>\n",
       "      <td>1</td>\n",
       "      <td>0</td>\n",
       "      <td>1</td>\n",
       "      <td>0</td>\n",
       "    </tr>\n",
       "    <tr>\n",
       "      <th>4</th>\n",
       "      <td>0</td>\n",
       "      <td>14</td>\n",
       "      <td>0</td>\n",
       "      <td>1</td>\n",
       "      <td>0</td>\n",
       "      <td>1</td>\n",
       "      <td>0</td>\n",
       "      <td>0</td>\n",
       "      <td>0</td>\n",
       "    </tr>\n",
       "  </tbody>\n",
       "</table>\n",
       "</div>"
      ],
      "text/plain": [
       "   job_title  employee_residence  experience_level_EX  experience_level_MI  \\\n",
       "0          2                  17                    0                    0   \n",
       "1          0                  25                    0                    1   \n",
       "2          0                  25                    0                    1   \n",
       "3          1                   4                    0                    1   \n",
       "4          0                  14                    0                    1   \n",
       "\n",
       "   experience_level_SE  employment_type_FT  employment_type_PT  \\\n",
       "0                    1                   1                   0   \n",
       "1                    0                   1                   0   \n",
       "2                    0                   1                   0   \n",
       "3                    0                   1                   0   \n",
       "4                    0                   1                   0   \n",
       "\n",
       "   company_size_M  company_size_S  \n",
       "0               0               1  \n",
       "1               0               0  \n",
       "2               0               0  \n",
       "3               1               0  \n",
       "4               0               0  "
      ]
     },
     "execution_count": 43,
     "metadata": {},
     "output_type": "execute_result"
    }
   ],
   "source": [
    "testeo.head()"
   ]
  },
  {
   "cell_type": "code",
   "execution_count": 44,
   "id": "aaf8f797",
   "metadata": {},
   "outputs": [],
   "source": [
    "y_pred = model.predict(testeo)\n",
    "muestra2=pd.read_csv('../data/muestra.csv')\n",
    "muestra2['salary_in_usd']= y_pred\n",
    "muestra2.to_csv('salary_comp.csv',index=False)"
   ]
  },
  {
   "cell_type": "code",
   "execution_count": null,
   "id": "171da8ac",
   "metadata": {},
   "outputs": [],
   "source": []
  },
  {
   "cell_type": "code",
   "execution_count": null,
   "id": "6b6dd077",
   "metadata": {},
   "outputs": [],
   "source": []
  },
  {
   "cell_type": "code",
   "execution_count": null,
   "id": "a4e0309d",
   "metadata": {},
   "outputs": [],
   "source": []
  }
 ],
 "metadata": {
  "kernelspec": {
   "display_name": "Python 3 (ipykernel)",
   "language": "python",
   "name": "python3"
  },
  "language_info": {
   "codemirror_mode": {
    "name": "ipython",
    "version": 3
   },
   "file_extension": ".py",
   "mimetype": "text/x-python",
   "name": "python",
   "nbconvert_exporter": "python",
   "pygments_lexer": "ipython3",
   "version": "3.9.13"
  }
 },
 "nbformat": 4,
 "nbformat_minor": 5
}
